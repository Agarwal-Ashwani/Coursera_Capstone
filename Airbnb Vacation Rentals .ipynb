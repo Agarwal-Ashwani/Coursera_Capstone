{
    "nbformat_minor": 1, 
    "cells": [
        {
            "source": "# Introduction / Business Problems ", 
            "cell_type": "markdown", 
            "metadata": {
                "collapsed": true
            }
        }, 
        {
            "source": "Airbnb\u2019s growth has been phenomenal over the years and they are one of hottest unicorn startups in the present days. In fact, they have become profitable and hopefully, looking at IPO in the near future. According to popular media outlets, currently Airbnb has more than 2 million listings in 192 countries and operating in 65,000 cities. Considering the amount of data that Airbnb hosts, it\u2019d be interesting to perform analyses and uncover insights related to vacation rental space in the sharing economy.\n\nIn this study we\u2019ll be using the property listings data extracted for Texas, United States. Here are the data fields of the dataset:\n\nRate per night\nNumber of bedrooms\nCity\nJoining month and year\nLongitude\nLatitude\nProperty description\nProperty title\nProperty URL", 
            "cell_type": "markdown", 
            "metadata": {}
        }, 
        {
            "source": "There are two goals of this study:\n\nThe goal of our analyses would be to plot the pricing data in terms of density and expensiveness on the Texas map\nWe\u2019d also perform topic modelling on the description text of the property listings", 
            "cell_type": "markdown", 
            "metadata": {}
        }, 
        {
            "source": "", 
            "cell_type": "code", 
            "execution_count": null, 
            "outputs": [], 
            "metadata": {}
        }
    ], 
    "nbformat": 4, 
    "metadata": {
        "kernelspec": {
            "display_name": "Python 3.6", 
            "name": "python3", 
            "language": "python"
        }, 
        "language_info": {
            "mimetype": "text/x-python", 
            "nbconvert_exporter": "python", 
            "version": "3.6.8", 
            "name": "python", 
            "pygments_lexer": "ipython3", 
            "file_extension": ".py", 
            "codemirror_mode": {
                "version": 3, 
                "name": "ipython"
            }
        }
    }
}